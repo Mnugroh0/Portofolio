{
 "cells": [
  {
   "cell_type": "markdown",
   "metadata": {},
   "source": [
    "## Impact dari Spending Time Electronic Gadget vs CGPA "
   ]
  },
  {
   "cell_type": "markdown",
   "metadata": {},
   "source": [
    "#### Import library yang dibutuhkan"
   ]
  },
  {
   "cell_type": "code",
   "execution_count": 1,
   "metadata": {},
   "outputs": [],
   "source": [
    "import pandas as pd\n",
    "import numpy as np\n",
    "import matplotlib.pyplot as plt\n",
    "import datetime"
   ]
  },
  {
   "cell_type": "markdown",
   "metadata": {},
   "source": [
    "#### Import data "
   ]
  },
  {
   "cell_type": "code",
   "execution_count": 2,
   "metadata": {},
   "outputs": [],
   "source": [
    "df = pd.read_csv(\"The Impact of Electronic Gadget Uses with Academic Performance among University Students (Responses) - Form Responses 1.csv\", delimiter = \",\")"
   ]
  },
  {
   "cell_type": "markdown",
   "metadata": {},
   "source": [
    "#### Understanding Data"
   ]
  },
  {
   "cell_type": "code",
   "execution_count": 3,
   "metadata": {},
   "outputs": [
    {
     "name": "stdout",
     "output_type": "stream",
     "text": [
      "(30, 9)\n"
     ]
    },
    {
     "data": {
      "text/html": [
       "<div>\n",
       "<style scoped>\n",
       "    .dataframe tbody tr th:only-of-type {\n",
       "        vertical-align: middle;\n",
       "    }\n",
       "\n",
       "    .dataframe tbody tr th {\n",
       "        vertical-align: top;\n",
       "    }\n",
       "\n",
       "    .dataframe thead th {\n",
       "        text-align: right;\n",
       "    }\n",
       "</style>\n",
       "<table border=\"1\" class=\"dataframe\">\n",
       "  <thead>\n",
       "    <tr style=\"text-align: right;\">\n",
       "      <th></th>\n",
       "      <th>Timestamp</th>\n",
       "      <th>Gender</th>\n",
       "      <th>Your study year</th>\n",
       "      <th>Which department</th>\n",
       "      <th>How many electronic devices do you use?</th>\n",
       "      <th>What is your recent latest CGPA ?</th>\n",
       "      <th>Is there an increase in your CGPA?</th>\n",
       "      <th>Average hour you spent using electronic devices for academic purposes in a day (hours).</th>\n",
       "      <th>What is the purpose of buying the device?</th>\n",
       "    </tr>\n",
       "  </thead>\n",
       "  <tbody>\n",
       "    <tr>\n",
       "      <th>0</th>\n",
       "      <td>7/19/2022 12:26:34</td>\n",
       "      <td>Female</td>\n",
       "      <td>4</td>\n",
       "      <td>Information Technology</td>\n",
       "      <td>2</td>\n",
       "      <td>3.00-3.49</td>\n",
       "      <td>Increase</td>\n",
       "      <td>4-6</td>\n",
       "      <td>Studies, Entertainment, Phone call</td>\n",
       "    </tr>\n",
       "    <tr>\n",
       "      <th>1</th>\n",
       "      <td>7/21/2022 2:19:26</td>\n",
       "      <td>Male</td>\n",
       "      <td>Post Graduate</td>\n",
       "      <td>Business Management</td>\n",
       "      <td>4</td>\n",
       "      <td>3.00-3.49</td>\n",
       "      <td>decrease</td>\n",
       "      <td>1-3</td>\n",
       "      <td>Studies, Entertainment, Online class, games, M...</td>\n",
       "    </tr>\n",
       "    <tr>\n",
       "      <th>2</th>\n",
       "      <td>7/21/2022 18:55:02</td>\n",
       "      <td>Male</td>\n",
       "      <td>3</td>\n",
       "      <td>Information Technology</td>\n",
       "      <td>3</td>\n",
       "      <td>3.50 - 3.99</td>\n",
       "      <td>Increase</td>\n",
       "      <td>4-6</td>\n",
       "      <td>Studies, Entertainment, Online class, Phone call</td>\n",
       "    </tr>\n",
       "    <tr>\n",
       "      <th>3</th>\n",
       "      <td>8/22/2022 10:01:30</td>\n",
       "      <td>Female</td>\n",
       "      <td>3</td>\n",
       "      <td>Engineering</td>\n",
       "      <td>3</td>\n",
       "      <td>2.50-2.99</td>\n",
       "      <td>decrease</td>\n",
       "      <td>1-3</td>\n",
       "      <td>Studies, Entertainment, Online class, games, M...</td>\n",
       "    </tr>\n",
       "    <tr>\n",
       "      <th>4</th>\n",
       "      <td>8/22/2022 10:02:05</td>\n",
       "      <td>Male</td>\n",
       "      <td>2</td>\n",
       "      <td>Architecture &amp; Built Environment</td>\n",
       "      <td>2</td>\n",
       "      <td>3.00-3.49</td>\n",
       "      <td>Increase</td>\n",
       "      <td>4-6</td>\n",
       "      <td>Studies, Entertainment</td>\n",
       "    </tr>\n",
       "  </tbody>\n",
       "</table>\n",
       "</div>"
      ],
      "text/plain": [
       "            Timestamp  Gender Your study year  \\\n",
       "0  7/19/2022 12:26:34  Female               4   \n",
       "1   7/21/2022 2:19:26    Male   Post Graduate   \n",
       "2  7/21/2022 18:55:02    Male               3   \n",
       "3  8/22/2022 10:01:30  Female               3   \n",
       "4  8/22/2022 10:02:05    Male               2   \n",
       "\n",
       "                   Which department  How many electronic devices do you use?  \\\n",
       "0            Information Technology                                        2   \n",
       "1               Business Management                                        4   \n",
       "2            Information Technology                                        3   \n",
       "3                       Engineering                                        3   \n",
       "4  Architecture & Built Environment                                        2   \n",
       "\n",
       "  What is your recent latest CGPA ? Is there an increase in your CGPA?  \\\n",
       "0                         3.00-3.49                           Increase   \n",
       "1                         3.00-3.49                           decrease   \n",
       "2                       3.50 - 3.99                           Increase   \n",
       "3                         2.50-2.99                           decrease   \n",
       "4                         3.00-3.49                           Increase   \n",
       "\n",
       "  Average hour you spent using electronic devices for academic purposes in a day (hours).  \\\n",
       "0                                                4-6                                        \n",
       "1                                                1-3                                        \n",
       "2                                                4-6                                        \n",
       "3                                                1-3                                        \n",
       "4                                                4-6                                        \n",
       "\n",
       "           What is the purpose of buying the device?  \n",
       "0                 Studies, Entertainment, Phone call  \n",
       "1  Studies, Entertainment, Online class, games, M...  \n",
       "2   Studies, Entertainment, Online class, Phone call  \n",
       "3  Studies, Entertainment, Online class, games, M...  \n",
       "4                             Studies, Entertainment  "
      ]
     },
     "execution_count": 3,
     "metadata": {},
     "output_type": "execute_result"
    }
   ],
   "source": [
    "pd.set_option(\"display.max_columns\", None)\n",
    "print(df.shape)\n",
    "df.head()"
   ]
  },
  {
   "cell_type": "markdown",
   "metadata": {},
   "source": [
    "#### Membuang kolom yang tidak perlu"
   ]
  },
  {
   "cell_type": "code",
   "execution_count": 4,
   "metadata": {},
   "outputs": [],
   "source": [
    "df = df.drop(\"Timestamp\", axis =1) # Menghapus kolom timestamp"
   ]
  },
  {
   "cell_type": "markdown",
   "metadata": {},
   "source": [
    "#### Mengganti nama kolom agar memudahkan analisis"
   ]
  },
  {
   "cell_type": "code",
   "execution_count": 5,
   "metadata": {},
   "outputs": [
    {
     "data": {
      "text/html": [
       "<div>\n",
       "<style scoped>\n",
       "    .dataframe tbody tr th:only-of-type {\n",
       "        vertical-align: middle;\n",
       "    }\n",
       "\n",
       "    .dataframe tbody tr th {\n",
       "        vertical-align: top;\n",
       "    }\n",
       "\n",
       "    .dataframe thead th {\n",
       "        text-align: right;\n",
       "    }\n",
       "</style>\n",
       "<table border=\"1\" class=\"dataframe\">\n",
       "  <thead>\n",
       "    <tr style=\"text-align: right;\">\n",
       "      <th></th>\n",
       "      <th>Gender</th>\n",
       "      <th>Study_Year</th>\n",
       "      <th>Department</th>\n",
       "      <th>Many_Device_Use</th>\n",
       "      <th>CGPA</th>\n",
       "      <th>CGPA_increase</th>\n",
       "      <th>Spending_Time</th>\n",
       "      <th>Buying_Purpose</th>\n",
       "    </tr>\n",
       "  </thead>\n",
       "  <tbody>\n",
       "    <tr>\n",
       "      <th>0</th>\n",
       "      <td>Female</td>\n",
       "      <td>4</td>\n",
       "      <td>Information Technology</td>\n",
       "      <td>2</td>\n",
       "      <td>3.00-3.49</td>\n",
       "      <td>Increase</td>\n",
       "      <td>4-6</td>\n",
       "      <td>Studies, Entertainment, Phone call</td>\n",
       "    </tr>\n",
       "    <tr>\n",
       "      <th>1</th>\n",
       "      <td>Male</td>\n",
       "      <td>Post Graduate</td>\n",
       "      <td>Business Management</td>\n",
       "      <td>4</td>\n",
       "      <td>3.00-3.49</td>\n",
       "      <td>decrease</td>\n",
       "      <td>1-3</td>\n",
       "      <td>Studies, Entertainment, Online class, games, M...</td>\n",
       "    </tr>\n",
       "    <tr>\n",
       "      <th>2</th>\n",
       "      <td>Male</td>\n",
       "      <td>3</td>\n",
       "      <td>Information Technology</td>\n",
       "      <td>3</td>\n",
       "      <td>3.50 - 3.99</td>\n",
       "      <td>Increase</td>\n",
       "      <td>4-6</td>\n",
       "      <td>Studies, Entertainment, Online class, Phone call</td>\n",
       "    </tr>\n",
       "    <tr>\n",
       "      <th>3</th>\n",
       "      <td>Female</td>\n",
       "      <td>3</td>\n",
       "      <td>Engineering</td>\n",
       "      <td>3</td>\n",
       "      <td>2.50-2.99</td>\n",
       "      <td>decrease</td>\n",
       "      <td>1-3</td>\n",
       "      <td>Studies, Entertainment, Online class, games, M...</td>\n",
       "    </tr>\n",
       "    <tr>\n",
       "      <th>4</th>\n",
       "      <td>Male</td>\n",
       "      <td>2</td>\n",
       "      <td>Architecture &amp; Built Environment</td>\n",
       "      <td>2</td>\n",
       "      <td>3.00-3.49</td>\n",
       "      <td>Increase</td>\n",
       "      <td>4-6</td>\n",
       "      <td>Studies, Entertainment</td>\n",
       "    </tr>\n",
       "  </tbody>\n",
       "</table>\n",
       "</div>"
      ],
      "text/plain": [
       "   Gender     Study_Year                        Department  Many_Device_Use  \\\n",
       "0  Female              4            Information Technology                2   \n",
       "1    Male  Post Graduate               Business Management                4   \n",
       "2    Male              3            Information Technology                3   \n",
       "3  Female              3                       Engineering                3   \n",
       "4    Male              2  Architecture & Built Environment                2   \n",
       "\n",
       "          CGPA CGPA_increase Spending_Time  \\\n",
       "0    3.00-3.49      Increase           4-6   \n",
       "1    3.00-3.49      decrease           1-3   \n",
       "2  3.50 - 3.99      Increase           4-6   \n",
       "3    2.50-2.99      decrease           1-3   \n",
       "4    3.00-3.49      Increase           4-6   \n",
       "\n",
       "                                      Buying_Purpose  \n",
       "0                 Studies, Entertainment, Phone call  \n",
       "1  Studies, Entertainment, Online class, games, M...  \n",
       "2   Studies, Entertainment, Online class, Phone call  \n",
       "3  Studies, Entertainment, Online class, games, M...  \n",
       "4                             Studies, Entertainment  "
      ]
     },
     "execution_count": 5,
     "metadata": {},
     "output_type": "execute_result"
    }
   ],
   "source": [
    "# Rename Nama kolom\n",
    "df = df.rename(columns={\"Your study year\":\"Study_Year\", \"Which department\":\"Department\", \n",
    "        \"How many electronic devices do you use?\":\"Many_Device_Use\", \"What is your recent latest CGPA ?\":\"CGPA\", \n",
    "        \"Is there an increase in your CGPA?\":\"CGPA_increase\", \n",
    "        \"Average hour you spent using electronic devices for academic purposes in a day (hours).\":\"Spending_Time\", \n",
    "        \"What is the purpose of buying the device?\":\"Buying_Purpose\"}) # Mengganti nama kolom \n",
    "\n",
    "df.head()"
   ]
  },
  {
   "cell_type": "markdown",
   "metadata": {},
   "source": [
    "#### Tujuan"
   ]
  },
  {
   "cell_type": "markdown",
   "metadata": {},
   "source": [
    "1. Banyak elektronik dengan GPA (increase/tidak) seberapa increase\n",
    "2. spending time vs GPA\n",
    "3. spending time vs increase GPA\n",
    "4. major with highest spending time "
   ]
  },
  {
   "cell_type": "markdown",
   "metadata": {},
   "source": [
    "#### Mencari Null Value"
   ]
  },
  {
   "cell_type": "code",
   "execution_count": 6,
   "metadata": {},
   "outputs": [
    {
     "data": {
      "text/plain": [
       "Gender             0\n",
       "Study_Year         0\n",
       "Department         0\n",
       "Many_Device_Use    0\n",
       "CGPA               0\n",
       "CGPA_increase      0\n",
       "Spending_Time      0\n",
       "Buying_Purpose     0\n",
       "dtype: int64"
      ]
     },
     "execution_count": 6,
     "metadata": {},
     "output_type": "execute_result"
    }
   ],
   "source": [
    "df.isna().sum() # Output tidak ada null value"
   ]
  },
  {
   "cell_type": "markdown",
   "metadata": {},
   "source": [
    "#### Exploratory Data Analysis"
   ]
  },
  {
   "cell_type": "markdown",
   "metadata": {},
   "source": [
    "#### 1. Banyak elektronik digunakan dengan CGPA (increase/tidak), seberapa increase"
   ]
  },
  {
   "cell_type": "code",
   "execution_count": 7,
   "metadata": {},
   "outputs": [
    {
     "data": {
      "text/html": [
       "<div>\n",
       "<style scoped>\n",
       "    .dataframe tbody tr th:only-of-type {\n",
       "        vertical-align: middle;\n",
       "    }\n",
       "\n",
       "    .dataframe tbody tr th {\n",
       "        vertical-align: top;\n",
       "    }\n",
       "\n",
       "    .dataframe thead th {\n",
       "        text-align: right;\n",
       "    }\n",
       "</style>\n",
       "<table border=\"1\" class=\"dataframe\">\n",
       "  <thead>\n",
       "    <tr style=\"text-align: right;\">\n",
       "      <th>CGPA_increase</th>\n",
       "      <th>Increase</th>\n",
       "      <th>None</th>\n",
       "      <th>decrease</th>\n",
       "    </tr>\n",
       "    <tr>\n",
       "      <th>Many_Device_Use</th>\n",
       "      <th></th>\n",
       "      <th></th>\n",
       "      <th></th>\n",
       "    </tr>\n",
       "  </thead>\n",
       "  <tbody>\n",
       "    <tr>\n",
       "      <th>1</th>\n",
       "      <td>1</td>\n",
       "      <td>0</td>\n",
       "      <td>0</td>\n",
       "    </tr>\n",
       "    <tr>\n",
       "      <th>2</th>\n",
       "      <td>7</td>\n",
       "      <td>7</td>\n",
       "      <td>2</td>\n",
       "    </tr>\n",
       "    <tr>\n",
       "      <th>3</th>\n",
       "      <td>2</td>\n",
       "      <td>3</td>\n",
       "      <td>3</td>\n",
       "    </tr>\n",
       "    <tr>\n",
       "      <th>4</th>\n",
       "      <td>1</td>\n",
       "      <td>1</td>\n",
       "      <td>3</td>\n",
       "    </tr>\n",
       "  </tbody>\n",
       "</table>\n",
       "</div>"
      ],
      "text/plain": [
       "CGPA_increase    Increase  None  decrease\n",
       "Many_Device_Use                          \n",
       "1                       1     0         0\n",
       "2                       7     7         2\n",
       "3                       2     3         3\n",
       "4                       1     1         3"
      ]
     },
     "execution_count": 7,
     "metadata": {},
     "output_type": "execute_result"
    }
   ],
   "source": [
    "df.head(5)\n",
    "\n",
    "tb1 = df[[\"Many_Device_Use\", \"CGPA\", \"CGPA_increase\"]] # Mengambil kolom yang diperlukan saja\n",
    "\n",
    "tb1 = (tb1.groupby([\"Many_Device_Use\", \"CGPA_increase\"]).agg({\"CGPA_increase\":\"count\"})\n",
    "        .rename(columns = {\"CGPA_increase\":\"Count\"})\n",
    "        .reset_index())\n",
    "\n",
    "tb1 = tb1.pivot(index = \"Many_Device_Use\", columns = \"CGPA_increase\", values = \"Count\")\n",
    "tb1 = tb1.fillna(value=0).astype(int) # Merubah nilai Na dan mengganti tipe data value menjadi int agar mudah terbaca\n",
    "tb1\n"
   ]
  },
  {
   "cell_type": "markdown",
   "metadata": {},
   "source": [
    "Membuat grafik no 1"
   ]
  },
  {
   "cell_type": "code",
   "execution_count": 8,
   "metadata": {},
   "outputs": [
    {
     "data": {
      "image/png": "[encoded data removed]",
      "text/plain": [
       "<Figure size 640x480 with 1 Axes>"
      ]
     },
     "metadata": {},
     "output_type": "display_data"
    }
   ],
   "source": [
    "# Membuat bar grafik untuk memvisualisasikan hasil \n",
    "tb1.plot(kind=\"bar\", \n",
    "color = {\"Increase\":\"r\", \"decrease\":\"grey\", \"None\":\"#ADD8E6\"})\n",
    "plt.xlabel(\"Device Use\", fontdict={\"fontname\": \"Times New Roman\", \"fontsize\": 15})\n",
    "plt.ylabel(\"Count\", fontdict={\"fontname\": \"Times New Roman\", \"fontsize\": 15})\n",
    "plt.title(\"Device Use vs CGPA\", fontdict={\"fontname\": \"Times New Roman\", \"fontsize\": 20})\n",
    "plt.xticks(rotation=0)\n",
    "plt.legend()\n",
    "plt.rc(\"legend\", fontsize=10)\n",
    "plt.show()"
   ]
  },
  {
   "cell_type": "markdown",
   "metadata": {},
   "source": [
    "Semakin banyak device yang digunakan, CGPA yang dihasilkan mengalami penurunan yang meningkat. \n"
   ]
  },
  {
   "cell_type": "markdown",
   "metadata": {},
   "source": [
    "#### 2. spending time vs GPA"
   ]
  },
  {
   "cell_type": "code",
   "execution_count": 9,
   "metadata": {},
   "outputs": [
    {
     "data": {
      "text/html": [
       "<div>\n",
       "<style scoped>\n",
       "    .dataframe tbody tr th:only-of-type {\n",
       "        vertical-align: middle;\n",
       "    }\n",
       "\n",
       "    .dataframe tbody tr th {\n",
       "        vertical-align: top;\n",
       "    }\n",
       "\n",
       "    .dataframe thead th {\n",
       "        text-align: right;\n",
       "    }\n",
       "</style>\n",
       "<table border=\"1\" class=\"dataframe\">\n",
       "  <thead>\n",
       "    <tr style=\"text-align: right;\">\n",
       "      <th>CGPA_increase</th>\n",
       "      <th>Increase</th>\n",
       "      <th>None</th>\n",
       "      <th>decrease</th>\n",
       "    </tr>\n",
       "    <tr>\n",
       "      <th>Spending_Time</th>\n",
       "      <th></th>\n",
       "      <th></th>\n",
       "      <th></th>\n",
       "    </tr>\n",
       "  </thead>\n",
       "  <tbody>\n",
       "    <tr>\n",
       "      <th>1-3</th>\n",
       "      <td>1</td>\n",
       "      <td>1</td>\n",
       "      <td>2</td>\n",
       "    </tr>\n",
       "    <tr>\n",
       "      <th>4-6</th>\n",
       "      <td>6</td>\n",
       "      <td>1</td>\n",
       "      <td>1</td>\n",
       "    </tr>\n",
       "    <tr>\n",
       "      <th>7-9</th>\n",
       "      <td>0</td>\n",
       "      <td>6</td>\n",
       "      <td>3</td>\n",
       "    </tr>\n",
       "    <tr>\n",
       "      <th>10-12</th>\n",
       "      <td>3</td>\n",
       "      <td>3</td>\n",
       "      <td>2</td>\n",
       "    </tr>\n",
       "    <tr>\n",
       "      <th>13-15</th>\n",
       "      <td>1</td>\n",
       "      <td>0</td>\n",
       "      <td>0</td>\n",
       "    </tr>\n",
       "  </tbody>\n",
       "</table>\n",
       "</div>"
      ],
      "text/plain": [
       "CGPA_increase  Increase  None  decrease\n",
       "Spending_Time                          \n",
       "1-3                   1     1         2\n",
       "4-6                   6     1         1\n",
       "7-9                   0     6         3\n",
       "10-12                 3     3         2\n",
       "13-15                 1     0         0"
      ]
     },
     "execution_count": 9,
     "metadata": {},
     "output_type": "execute_result"
    }
   ],
   "source": [
    "df.head() # melihat data\n",
    "\n",
    "tb2 = (df.groupby([\"Spending_Time\", \"CGPA_increase\"])\n",
    "        .agg({\"CGPA_increase\":\"count\"})\n",
    "        .rename(columns = {\"Spending_Time\":\"Time\", \"CGPA_increase\":\"Count\"})\n",
    "        .reset_index())\n",
    "\n",
    "# Mapping ke kolom spending time agar dapat diurutkan dengan sort values\n",
    "tb2[\"Spending_Time\"] = tb2[\"Spending_Time\"].map({\"1-3\":0, \"4-6\":1, \"7-9\":2, \"10-12\":3, \"13-15\":4})\n",
    "tb2 = tb2.sort_values(by=\"Spending_Time\")\n",
    "\n",
    "tb2 = tb2.pivot(index=\"Spending_Time\", columns = \"CGPA_increase\", values=\"Count\")\n",
    "tb2 = tb2.rename(index={0:\"1-3\", 1:\"4-6\", 2:\"7-9\", 3:\"10-12\", 4:\"13-15\"}) # Merubah nama kolom\n",
    "tb2 = tb2.fillna(value=0).astype(int)\n",
    "tb2"
   ]
  },
  {
   "cell_type": "markdown",
   "metadata": {},
   "source": [
    "Membuat grafik no 2"
   ]
  },
  {
   "cell_type": "code",
   "execution_count": 10,
   "metadata": {},
   "outputs": [
    {
     "data": {
      "image/png": "[encoded data removed]",
      "text/plain": [
       "<Figure size 640x480 with 1 Axes>"
      ]
     },
     "metadata": {},
     "output_type": "display_data"
    }
   ],
   "source": [
    "tb2.plot(kind=\"bar\",\n",
    "color = {\"Increase\":\"blue\", \"decrease\":\"grey\", \"None\":\"#93C572\"})\n",
    "\n",
    "plt.xlabel(\"Spending Time (hour)\", fontdict={\"fontname\": \"Times New Roman\", \"fontsize\": 15})\n",
    "plt.ylabel(\"Count CGPA\", fontdict={\"fontname\": \"Times New Roman\", \"fontsize\": 15})\n",
    "plt.title(\"Spending Time vs CGPA\", fontdict={\"fontname\": \"Times New Roman\", \"fontsize\": 20})\n",
    "plt.xticks([0,1,2,3,4], [\"1-3\", \"4-6\", \"7-9\", \"10-12\", \"13-15\"], rotation = 0)\n",
    "plt.legend()\n",
    "plt.rc(\"legend\", fontsize=10)\n",
    "plt.show()"
   ]
  },
  {
   "cell_type": "markdown",
   "metadata": {},
   "source": [
    "#### Statistik lamanya waktu digunakan dengan peningkatan CGPA "
   ]
  },
  {
   "cell_type": "code",
   "execution_count": 11,
   "metadata": {},
   "outputs": [
    {
     "name": "stdout",
     "output_type": "stream",
     "text": [
      "['7-9', '10-12', '13-15']\n",
      " Banyak yang meningkat\t: 4, dengan Persen Increase\t: 13.33 %\n",
      " Banyak yang menurun\t: 5, dengan Persen Decrease\t: 16.67 %\n",
      " Banyak yang stabil\t: 9, dengan Persen None\t\t: 30.00 %\n",
      "\n",
      "['1-3', '4-6']\n",
      " Banyak yang meningkat\t: 7, dengan Persen Increase\t: 23.33 %\n",
      " Banyak yang menurun\t: 3, dengan Persen Decrease\t: 10.00 %\n",
      " Banyak yang stabil\t: 2, dengan Persen None\t\t: 6.67 %\n",
      "\n"
     ]
    }
   ],
   "source": [
    "# Stats Class yang berguna untuk summary dari lamanya waktu yang digunakan dengan kenaikan CGPA\n",
    "\n",
    "class Stats:\n",
    "\n",
    "    # Mengambil kolom yang diperlukan \n",
    "    tb3 = df[[\"Department\", \"CGPA_increase\", \"Spending_Time\"]] \n",
    "\n",
    "    def __init__(self, parameter):\n",
    "        # parameter dimasukan fungsi above/below 7\n",
    "        self.parameter = parameter\n",
    "\n",
    "\n",
    "    def Summary(self):\n",
    "        \n",
    "        Increase = 0\n",
    "        Decrease = 0\n",
    "        Nonee = 0\n",
    "\n",
    "        summ = self.tb3[self.tb3[\"Spending_Time\"].isin(self.parameter)]\n",
    "\n",
    "        for i in summ[\"CGPA_increase\"]:\n",
    "            if i == \"Increase\":\n",
    "                Increase += 1\n",
    "            elif i == \"decrease\":\n",
    "                Decrease += 1\n",
    "            else:\n",
    "                Nonee += 1\n",
    "        \n",
    "        persen_increase = Increase / len(self.tb3[\"CGPA_increase\"]) * 100\n",
    "        persen_decrease = Decrease / len(self.tb3[\"CGPA_increase\"]) * 100\n",
    "        persen_stabil = Nonee / len(self.tb3[\"CGPA_increase\"]) * 100\n",
    "\n",
    "\n",
    "        print( \n",
    "            f\"{self.parameter}\\n\",\n",
    "            f\"Banyak yang meningkat\\t: {Increase}, dengan Persen Increase\\t: {persen_increase:.2f} %\\n\",\n",
    "            f\"Banyak yang menurun\\t: {Decrease}, dengan Persen Decrease\\t: {persen_decrease:.2f} %\\n\",\n",
    "            f\"Banyak yang stabil\\t: {Nonee}, dengan Persen None\\t\\t: {persen_stabil:.2f} %\\n\")\n",
    "\n",
    "# Jika spending time lebih dari 7 jam \n",
    "above7 = [\"7-9\", \"10-12\", \"13-15\"] \n",
    "Above = Stats(above7)\n",
    "Above.Summary()\n",
    "\n",
    "# Jika spending time kurang dari 7 jam\n",
    "below7 = [\"1-3\", \"4-6\"] \n",
    "Below = Stats(below7)\n",
    "Below.Summary()\n",
    "\n",
    "\n"
   ]
  },
  {
   "cell_type": "markdown",
   "metadata": {},
   "source": [
    "<p style='text-align: justify;'>\n",
    "Lamanya waktu yang digunakan pada gadget di atas 7 jam tidak terlalu efektif, karena terdapat penurunan CGPA, dengan 16,67%. Peningkatan CGPA terjadi ketika penggunaan gadget kurang dari 7 jam, dengan persen banyak peningkatan 23,33 % </p>"
   ]
  },
  {
   "cell_type": "markdown",
   "metadata": {},
   "source": [
    "#### Gender Summary CGPA increase"
   ]
  },
  {
   "cell_type": "code",
   "execution_count": 12,
   "metadata": {},
   "outputs": [
    {
     "data": {
      "text/html": [
       "<div>\n",
       "<style scoped>\n",
       "    .dataframe tbody tr th:only-of-type {\n",
       "        vertical-align: middle;\n",
       "    }\n",
       "\n",
       "    .dataframe tbody tr th {\n",
       "        vertical-align: top;\n",
       "    }\n",
       "\n",
       "    .dataframe thead th {\n",
       "        text-align: right;\n",
       "    }\n",
       "</style>\n",
       "<table border=\"1\" class=\"dataframe\">\n",
       "  <thead>\n",
       "    <tr style=\"text-align: right;\">\n",
       "      <th></th>\n",
       "      <th></th>\n",
       "      <th>Count</th>\n",
       "    </tr>\n",
       "    <tr>\n",
       "      <th>Gender</th>\n",
       "      <th>CGPA_increase</th>\n",
       "      <th></th>\n",
       "    </tr>\n",
       "  </thead>\n",
       "  <tbody>\n",
       "    <tr>\n",
       "      <th rowspan=\"3\" valign=\"top\">Female</th>\n",
       "      <th>Increase</th>\n",
       "      <td>3</td>\n",
       "    </tr>\n",
       "    <tr>\n",
       "      <th>None</th>\n",
       "      <td>4</td>\n",
       "    </tr>\n",
       "    <tr>\n",
       "      <th>decrease</th>\n",
       "      <td>4</td>\n",
       "    </tr>\n",
       "    <tr>\n",
       "      <th rowspan=\"3\" valign=\"top\">Male</th>\n",
       "      <th>Increase</th>\n",
       "      <td>8</td>\n",
       "    </tr>\n",
       "    <tr>\n",
       "      <th>None</th>\n",
       "      <td>7</td>\n",
       "    </tr>\n",
       "    <tr>\n",
       "      <th>decrease</th>\n",
       "      <td>4</td>\n",
       "    </tr>\n",
       "  </tbody>\n",
       "</table>\n",
       "</div>"
      ],
      "text/plain": [
       "                      Count\n",
       "Gender CGPA_increase       \n",
       "Female Increase           3\n",
       "       None               4\n",
       "       decrease           4\n",
       "Male   Increase           8\n",
       "       None               7\n",
       "       decrease           4"
      ]
     },
     "execution_count": 12,
     "metadata": {},
     "output_type": "execute_result"
    }
   ],
   "source": [
    "gender_CGPA = df[[\"Gender\", \"Spending_Time\", \"CGPA_increase\", \"CGPA\"]]\n",
    "\n",
    "gender_CGPA = (df.groupby([\"Gender\", \"CGPA_increase\"])\n",
    "                .agg({\"CGPA_increase\":\"count\"})\n",
    "                .rename(columns = {\"CGPA_increase\":\"Count\"}))\n",
    "\n",
    "gender_CGPA"
   ]
  },
  {
   "cell_type": "markdown",
   "metadata": {},
   "source": [
    "#### Gender with most spending time"
   ]
  },
  {
   "cell_type": "code",
   "execution_count": 13,
   "metadata": {},
   "outputs": [
    {
     "data": {
      "text/html": [
       "<div>\n",
       "<style scoped>\n",
       "    .dataframe tbody tr th:only-of-type {\n",
       "        vertical-align: middle;\n",
       "    }\n",
       "\n",
       "    .dataframe tbody tr th {\n",
       "        vertical-align: top;\n",
       "    }\n",
       "\n",
       "    .dataframe thead th {\n",
       "        text-align: right;\n",
       "    }\n",
       "</style>\n",
       "<table border=\"1\" class=\"dataframe\">\n",
       "  <thead>\n",
       "    <tr style=\"text-align: right;\">\n",
       "      <th>Spending_Time</th>\n",
       "      <th>1-3</th>\n",
       "      <th>4-6</th>\n",
       "      <th>7-9</th>\n",
       "      <th>10-12</th>\n",
       "      <th>13-15</th>\n",
       "    </tr>\n",
       "    <tr>\n",
       "      <th>Gender</th>\n",
       "      <th></th>\n",
       "      <th></th>\n",
       "      <th></th>\n",
       "      <th></th>\n",
       "      <th></th>\n",
       "    </tr>\n",
       "  </thead>\n",
       "  <tbody>\n",
       "    <tr>\n",
       "      <th>Female</th>\n",
       "      <td>1</td>\n",
       "      <td>4</td>\n",
       "      <td>4</td>\n",
       "      <td>2</td>\n",
       "      <td>0</td>\n",
       "    </tr>\n",
       "    <tr>\n",
       "      <th>Male</th>\n",
       "      <td>3</td>\n",
       "      <td>4</td>\n",
       "      <td>5</td>\n",
       "      <td>6</td>\n",
       "      <td>1</td>\n",
       "    </tr>\n",
       "  </tbody>\n",
       "</table>\n",
       "</div>"
      ],
      "text/plain": [
       "Spending_Time  1-3  4-6  7-9  10-12  13-15\n",
       "Gender                                    \n",
       "Female           1    4    4      2      0\n",
       "Male             3    4    5      6      1"
      ]
     },
     "execution_count": 13,
     "metadata": {},
     "output_type": "execute_result"
    }
   ],
   "source": [
    "df.head() # Melihat data\n",
    "\n",
    "tb4 = (df.groupby([\"Gender\", \"Spending_Time\"])\n",
    "        .agg({\"Spending_Time\":\"count\"})\n",
    "        .rename(columns={\"Spending_Time\":\"Count\"})\n",
    "        .reset_index())\n",
    "\n",
    "tb4 = tb4.pivot(index=\"Gender\", columns=\"Spending_Time\", values=\"Count\")\n",
    "tb4 = tb4[[\"1-3\", \"4-6\", \"7-9\", \"10-12\", \"13-15\"]] # Mengurutkan kolom\n",
    "tb4 = tb4.fillna(value=0).astype(int) # Mengisi Na value dan merubah tipe data menjadi int\n",
    "tb4"
   ]
  },
  {
   "cell_type": "markdown",
   "metadata": {},
   "source": [
    "#### Major Spending Time"
   ]
  },
  {
   "cell_type": "code",
   "execution_count": 14,
   "metadata": {},
   "outputs": [
    {
     "data": {
      "text/html": [
       "<div>\n",
       "<style scoped>\n",
       "    .dataframe tbody tr th:only-of-type {\n",
       "        vertical-align: middle;\n",
       "    }\n",
       "\n",
       "    .dataframe tbody tr th {\n",
       "        vertical-align: top;\n",
       "    }\n",
       "\n",
       "    .dataframe thead th {\n",
       "        text-align: right;\n",
       "    }\n",
       "</style>\n",
       "<table border=\"1\" class=\"dataframe\">\n",
       "  <thead>\n",
       "    <tr style=\"text-align: right;\">\n",
       "      <th>Spending_Time</th>\n",
       "      <th>1-3</th>\n",
       "      <th>4-6</th>\n",
       "      <th>7-9</th>\n",
       "      <th>10-12</th>\n",
       "      <th>13-15</th>\n",
       "      <th>total_student</th>\n",
       "    </tr>\n",
       "    <tr>\n",
       "      <th>Department</th>\n",
       "      <th></th>\n",
       "      <th></th>\n",
       "      <th></th>\n",
       "      <th></th>\n",
       "      <th></th>\n",
       "      <th></th>\n",
       "    </tr>\n",
       "  </thead>\n",
       "  <tbody>\n",
       "    <tr>\n",
       "      <th>Allied Health Sciences</th>\n",
       "      <td>0</td>\n",
       "      <td>0</td>\n",
       "      <td>1</td>\n",
       "      <td>1</td>\n",
       "      <td>0</td>\n",
       "      <td>2</td>\n",
       "    </tr>\n",
       "    <tr>\n",
       "      <th>Architecture &amp; Built Environment</th>\n",
       "      <td>0</td>\n",
       "      <td>1</td>\n",
       "      <td>0</td>\n",
       "      <td>2</td>\n",
       "      <td>0</td>\n",
       "      <td>3</td>\n",
       "    </tr>\n",
       "    <tr>\n",
       "      <th>Business Management</th>\n",
       "      <td>1</td>\n",
       "      <td>2</td>\n",
       "      <td>3</td>\n",
       "      <td>0</td>\n",
       "      <td>0</td>\n",
       "      <td>6</td>\n",
       "    </tr>\n",
       "    <tr>\n",
       "      <th>Creative Industries</th>\n",
       "      <td>1</td>\n",
       "      <td>1</td>\n",
       "      <td>1</td>\n",
       "      <td>1</td>\n",
       "      <td>0</td>\n",
       "      <td>4</td>\n",
       "    </tr>\n",
       "    <tr>\n",
       "      <th>Education &amp; Liberal Studies</th>\n",
       "      <td>0</td>\n",
       "      <td>1</td>\n",
       "      <td>0</td>\n",
       "      <td>2</td>\n",
       "      <td>0</td>\n",
       "      <td>3</td>\n",
       "    </tr>\n",
       "    <tr>\n",
       "      <th>Engineering</th>\n",
       "      <td>2</td>\n",
       "      <td>0</td>\n",
       "      <td>1</td>\n",
       "      <td>1</td>\n",
       "      <td>0</td>\n",
       "      <td>4</td>\n",
       "    </tr>\n",
       "    <tr>\n",
       "      <th>Hospitality &amp; Tourism</th>\n",
       "      <td>0</td>\n",
       "      <td>0</td>\n",
       "      <td>2</td>\n",
       "      <td>0</td>\n",
       "      <td>1</td>\n",
       "      <td>3</td>\n",
       "    </tr>\n",
       "    <tr>\n",
       "      <th>Information Technology</th>\n",
       "      <td>0</td>\n",
       "      <td>3</td>\n",
       "      <td>1</td>\n",
       "      <td>1</td>\n",
       "      <td>0</td>\n",
       "      <td>5</td>\n",
       "    </tr>\n",
       "  </tbody>\n",
       "</table>\n",
       "</div>"
      ],
      "text/plain": [
       "Spending_Time                     1-3  4-6  7-9  10-12  13-15  total_student\n",
       "Department                                                                  \n",
       "Allied Health Sciences              0    0    1      1      0              2\n",
       "Architecture & Built Environment    0    1    0      2      0              3\n",
       "Business Management                 1    2    3      0      0              6\n",
       "Creative Industries                 1    1    1      1      0              4\n",
       "Education & Liberal Studies         0    1    0      2      0              3\n",
       "Engineering                         2    0    1      1      0              4\n",
       "Hospitality & Tourism               0    0    2      0      1              3\n",
       "Information Technology              0    3    1      1      0              5"
      ]
     },
     "execution_count": 14,
     "metadata": {},
     "output_type": "execute_result"
    }
   ],
   "source": [
    "df.head()\n",
    "\n",
    "tb5 = (df.groupby([\"Department\", \"Spending_Time\"])\n",
    "        .agg({\"Spending_Time\":\"count\"})\n",
    "        .rename(columns={\"Spending_Time\":\"Count\"})\n",
    "        .reset_index())\n",
    "\n",
    "tb5 = tb5.pivot(index=\"Department\", columns=\"Spending_Time\", values=\"Count\")\n",
    "tb5 = tb5[[\"1-3\", \"4-6\", \"7-9\", \"10-12\", \"13-15\"]] # Mengurutkan kolom\n",
    "tb5 = tb5.fillna(value=0).astype(int) \n",
    "tb5[\"total_student\"] = tb5.sum(axis=1)\n",
    "tb5"
   ]
  },
  {
   "cell_type": "markdown",
   "metadata": {},
   "source": [
    "#### Kesimpulan\n",
    "<p style='text-align: justify;'> \n",
    "1. Jika jumlah device yang digunakan meningkat maka terdapat penurunan CGPA yang.\n",
    "Berdasarkan grafik 1, penurunan CGPA meningkat seiring bertambahnya gadget yang digunakan. </p>\n",
    "<p style='text-align: justify;'> \n",
    "2. spending time vs CGPA, berdasarkan grafik 2 tidak dapat terlihat terlalu jelas apa yang dapat disimpulkan.\n",
    "Namun, berdasarkan perhitungan statistik dengan Class Stats diperoleh: lamanya waktu yang digunakan pada gadget di atas 7 jam tidak terlalu efektif, karena terdapat penurunan CGPA. penurunan CGPA sebesar 16,67%. Terjadinya \n",
    "peningkatan CGPA_decrease di atas 7 jam vs di bawah 7 jam sebanyak 6,67%.  \n",
    "Peningkatan CGPA terjadi ketika penggunaan gadget kurang dari 7 jam, dengan persen CGPA_increase sebesar: 23,33%.\n",
    "meskipun begitu, banyak juga mahasiswa yang stabil CGPA-nya meskipun belajar di atas 7 jam. diperlukan sampel data \n",
    "yang lebih banyak sehinggaa diperoleh kesimpulan yang valid, dan dapat diprediksi penurunan, peningkatan berdasarkan\n",
    "spending time. </p>\n",
    "  "
   ]
  }
 ],
 "metadata": {
  "kernelspec": {
   "display_name": "Python 3.10.1 64-bit",
   "language": "python",
   "name": "python3"
  },
  "language_info": {
   "codemirror_mode": {
    "name": "ipython",
    "version": 3
   },
   "file_extension": ".py",
   "mimetype": "text/x-python",
   "name": "python",
   "nbconvert_exporter": "python",
   "pygments_lexer": "ipython3",
   "version": "3.10.1"
  },
  "orig_nbformat": 4,
  "vscode": {
   "interpreter": {
    "hash": "b6a8734f63f9bbe2b612cef2764faf98f4f6bf564058e5bad587c46361258d88"
   }
  }
 },
 "nbformat": 4,
 "nbformat_minor": 2
}
