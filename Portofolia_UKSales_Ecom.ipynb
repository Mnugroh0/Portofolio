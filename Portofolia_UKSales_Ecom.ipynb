{
 "cells": [
  {
   "cell_type": "markdown",
   "metadata": {},
   "source": [
    "# EDA E-Commerce Sales Transaction di United Kingdom pada tahun 2019"
   ]
  },
  {
   "cell_type": "markdown",
   "metadata": {},
   "source": [
    "### Import Library yang dibutuhkan"
   ]
  },
  {
   "cell_type": "code",
   "execution_count": 209,
   "metadata": {},
   "outputs": [],
   "source": [
    "import pandas as pd\n",
    "import numpy as np\n",
    "import matplotlib.pyplot as plt\n",
    "import datetime"
   ]
  },
  {
   "cell_type": "markdown",
   "metadata": {},
   "source": [
    "### Mengimport data dari csv"
   ]
  },
  {
   "cell_type": "code",
   "execution_count": 210,
   "metadata": {},
   "outputs": [],
   "source": [
    "df = pd.read_csv(\"Sales Transaction v.4a.csv\", delimiter = \",\")"
   ]
  },
  {
   "cell_type": "markdown",
   "metadata": {},
   "source": [
    "### Membersihkan Data"
   ]
  },
  {
   "cell_type": "markdown",
   "metadata": {},
   "source": [
    "#### Mengecek Null Value pada Data dan Membuangnya"
   ]
  },
  {
   "cell_type": "code",
   "execution_count": 211,
   "metadata": {},
   "outputs": [],
   "source": [
    "# Mengecek Null Value di Data\n",
    "df.isna().sum() \n",
    "\n",
    "# Menghapus Null Value\n",
    "dfsales = df.dropna(how=\"any\", axis=0)"
   ]
  },
  {
   "cell_type": "markdown",
   "metadata": {},
   "source": [
    "#### Melihat apakah Null Value sudah terhapus"
   ]
  },
  {
   "cell_type": "code",
   "execution_count": 212,
   "metadata": {},
   "outputs": [
    {
     "data": {
      "text/plain": [
       "TransactionNo    0\n",
       "Date             0\n",
       "ProductNo        0\n",
       "ProductName      0\n",
       "Price            0\n",
       "Quantity         0\n",
       "CustomerNo       0\n",
       "Country          0\n",
       "dtype: int64"
      ]
     },
     "execution_count": 212,
     "metadata": {},
     "output_type": "execute_result"
    }
   ],
   "source": [
    "dfsales.isna().sum()"
   ]
  },
  {
   "cell_type": "markdown",
   "metadata": {},
   "source": [
    "#### Memahami Data "
   ]
  },
  {
   "cell_type": "code",
   "execution_count": 213,
   "metadata": {},
   "outputs": [
    {
     "name": "stdout",
     "output_type": "stream",
     "text": [
      "<class 'pandas.core.frame.DataFrame'>\n",
      "Int64Index: 485040 entries, 0 to 536335\n",
      "Data columns (total 8 columns):\n",
      " #   Column         Non-Null Count   Dtype  \n",
      "---  ------         --------------   -----  \n",
      " 0   TransactionNo  485040 non-null  object \n",
      " 1   Date           485040 non-null  object \n",
      " 2   ProductNo      485040 non-null  object \n",
      " 3   ProductName    485040 non-null  object \n",
      " 4   Price          485040 non-null  float64\n",
      " 5   Quantity       485040 non-null  int64  \n",
      " 6   CustomerNo     485040 non-null  float64\n",
      " 7   Country        485040 non-null  object \n",
      "dtypes: float64(2), int64(1), object(5)\n",
      "memory usage: 33.3+ MB\n"
     ]
    },
    {
     "data": {
      "text/html": [
       "<div>\n",
       "<style scoped>\n",
       "    .dataframe tbody tr th:only-of-type {\n",
       "        vertical-align: middle;\n",
       "    }\n",
       "\n",
       "    .dataframe tbody tr th {\n",
       "        vertical-align: top;\n",
       "    }\n",
       "\n",
       "    .dataframe thead th {\n",
       "        text-align: right;\n",
       "    }\n",
       "</style>\n",
       "<table border=\"1\" class=\"dataframe\">\n",
       "  <thead>\n",
       "    <tr style=\"text-align: right;\">\n",
       "      <th></th>\n",
       "      <th>TransactionNo</th>\n",
       "      <th>Date</th>\n",
       "      <th>ProductNo</th>\n",
       "      <th>ProductName</th>\n",
       "      <th>Price</th>\n",
       "      <th>Quantity</th>\n",
       "      <th>CustomerNo</th>\n",
       "      <th>Country</th>\n",
       "    </tr>\n",
       "  </thead>\n",
       "  <tbody>\n",
       "    <tr>\n",
       "      <th>0</th>\n",
       "      <td>581482</td>\n",
       "      <td>12/9/2019</td>\n",
       "      <td>22485</td>\n",
       "      <td>Set Of 2 Wooden Market Crates</td>\n",
       "      <td>21.47</td>\n",
       "      <td>12</td>\n",
       "      <td>17490.0</td>\n",
       "      <td>United Kingdom</td>\n",
       "    </tr>\n",
       "    <tr>\n",
       "      <th>1</th>\n",
       "      <td>581475</td>\n",
       "      <td>12/9/2019</td>\n",
       "      <td>22596</td>\n",
       "      <td>Christmas Star Wish List Chalkboard</td>\n",
       "      <td>10.65</td>\n",
       "      <td>36</td>\n",
       "      <td>13069.0</td>\n",
       "      <td>United Kingdom</td>\n",
       "    </tr>\n",
       "    <tr>\n",
       "      <th>2</th>\n",
       "      <td>581475</td>\n",
       "      <td>12/9/2019</td>\n",
       "      <td>23235</td>\n",
       "      <td>Storage Tin Vintage Leaf</td>\n",
       "      <td>11.53</td>\n",
       "      <td>12</td>\n",
       "      <td>13069.0</td>\n",
       "      <td>United Kingdom</td>\n",
       "    </tr>\n",
       "    <tr>\n",
       "      <th>3</th>\n",
       "      <td>581475</td>\n",
       "      <td>12/9/2019</td>\n",
       "      <td>23272</td>\n",
       "      <td>Tree T-Light Holder Willie Winkie</td>\n",
       "      <td>10.65</td>\n",
       "      <td>12</td>\n",
       "      <td>13069.0</td>\n",
       "      <td>United Kingdom</td>\n",
       "    </tr>\n",
       "    <tr>\n",
       "      <th>4</th>\n",
       "      <td>581475</td>\n",
       "      <td>12/9/2019</td>\n",
       "      <td>23239</td>\n",
       "      <td>Set Of 4 Knick Knack Tins Poppies</td>\n",
       "      <td>11.94</td>\n",
       "      <td>6</td>\n",
       "      <td>13069.0</td>\n",
       "      <td>United Kingdom</td>\n",
       "    </tr>\n",
       "  </tbody>\n",
       "</table>\n",
       "</div>"
      ],
      "text/plain": [
       "  TransactionNo       Date ProductNo                          ProductName  \\\n",
       "0        581482  12/9/2019     22485        Set Of 2 Wooden Market Crates   \n",
       "1        581475  12/9/2019     22596  Christmas Star Wish List Chalkboard   \n",
       "2        581475  12/9/2019     23235             Storage Tin Vintage Leaf   \n",
       "3        581475  12/9/2019     23272    Tree T-Light Holder Willie Winkie   \n",
       "4        581475  12/9/2019     23239    Set Of 4 Knick Knack Tins Poppies   \n",
       "\n",
       "   Price  Quantity  CustomerNo         Country  \n",
       "0  21.47        12     17490.0  United Kingdom  \n",
       "1  10.65        36     13069.0  United Kingdom  \n",
       "2  11.53        12     13069.0  United Kingdom  \n",
       "3  10.65        12     13069.0  United Kingdom  \n",
       "4  11.94         6     13069.0  United Kingdom  "
      ]
     },
     "execution_count": 213,
     "metadata": {},
     "output_type": "execute_result"
    }
   ],
   "source": [
    "# Mengambil data yang dengan country United Kingdom\n",
    "dfsales = dfsales.loc[dfsales[\"Country\"] == \"United Kingdom\"]\n",
    "\n",
    "# Info Tentang Data\n",
    "dfsales.info()\n",
    "dfsales.columns\n",
    "dfsales.head()\n"
   ]
  },
  {
   "cell_type": "markdown",
   "metadata": {},
   "source": [
    "#### Merubah Format Date agar mudah proses pengolahan"
   ]
  },
  {
   "cell_type": "code",
   "execution_count": 214,
   "metadata": {},
   "outputs": [],
   "source": [
    "dateFormat = \"%m/%d/%Y\"\n",
    "dfsales[\"Date\"] = pd.to_datetime(dfsales[\"Date\"], format = dateFormat)"
   ]
  },
  {
   "cell_type": "markdown",
   "metadata": {},
   "source": [
    "### Deskripsi Data"
   ]
  },
  {
   "cell_type": "markdown",
   "metadata": {},
   "source": [
    "The data set contains 500K rows and 8 columns. The following is the description of each column.\n",
    "\n",
    "1. TransactionNo (categorical): a six-digit unique number that defines each transaction.\n",
    "2. Date (numeric): the date when each transaction was generated.\n",
    "3. ProductNo (categorical): a five or six-digit unique character used to identify a specific product.\n",
    "4. Product (categorical): product/item name.\n",
    "5. Price (numeric): the price of each product per unit in pound sterling (£).\n",
    "6. Quantity (numeric): the quantity of each product per transaction. Negative values related to cancelled transactions.\n",
    "7. CustomerNo (categorical): a five-digit unique number that defines each customer.\n",
    "8. Country (categorical): name of the country where the customer resides.\n",
    "There is a small percentage of order cancellation in the data set. These cancellations were due to out-of-stock conditions on some products. Under this situation, customers tend to cancel an order as they want all products delivered all at once.\n",
    "\n",
    "link data : https://www.kaggle.com/datasets/gabrielramos87/an-online-shop-business"
   ]
  },
  {
   "cell_type": "markdown",
   "metadata": {},
   "source": [
    "### Analisis Data"
   ]
  },
  {
   "cell_type": "markdown",
   "metadata": {},
   "source": [
    "#### Memahami data, menambahkan kolom Month, Year dan Total Money."
   ]
  },
  {
   "cell_type": "code",
   "execution_count": 215,
   "metadata": {},
   "outputs": [
    {
     "data": {
      "text/html": [
       "<div>\n",
       "<style scoped>\n",
       "    .dataframe tbody tr th:only-of-type {\n",
       "        vertical-align: middle;\n",
       "    }\n",
       "\n",
       "    .dataframe tbody tr th {\n",
       "        vertical-align: top;\n",
       "    }\n",
       "\n",
       "    .dataframe thead th {\n",
       "        text-align: right;\n",
       "    }\n",
       "</style>\n",
       "<table border=\"1\" class=\"dataframe\">\n",
       "  <thead>\n",
       "    <tr style=\"text-align: right;\">\n",
       "      <th></th>\n",
       "      <th>TransactionNo</th>\n",
       "      <th>Date</th>\n",
       "      <th>ProductNo</th>\n",
       "      <th>ProductName</th>\n",
       "      <th>Price</th>\n",
       "      <th>Quantity</th>\n",
       "      <th>CustomerNo</th>\n",
       "      <th>Country</th>\n",
       "      <th>Month</th>\n",
       "      <th>Year</th>\n",
       "      <th>TotalMoney</th>\n",
       "    </tr>\n",
       "  </thead>\n",
       "  <tbody>\n",
       "    <tr>\n",
       "      <th>0</th>\n",
       "      <td>581482</td>\n",
       "      <td>2019-12-09</td>\n",
       "      <td>22485</td>\n",
       "      <td>Set Of 2 Wooden Market Crates</td>\n",
       "      <td>21.47</td>\n",
       "      <td>12</td>\n",
       "      <td>17490.0</td>\n",
       "      <td>United Kingdom</td>\n",
       "      <td>12</td>\n",
       "      <td>2019</td>\n",
       "      <td>257.64</td>\n",
       "    </tr>\n",
       "    <tr>\n",
       "      <th>1</th>\n",
       "      <td>581475</td>\n",
       "      <td>2019-12-09</td>\n",
       "      <td>22596</td>\n",
       "      <td>Christmas Star Wish List Chalkboard</td>\n",
       "      <td>10.65</td>\n",
       "      <td>36</td>\n",
       "      <td>13069.0</td>\n",
       "      <td>United Kingdom</td>\n",
       "      <td>12</td>\n",
       "      <td>2019</td>\n",
       "      <td>383.40</td>\n",
       "    </tr>\n",
       "    <tr>\n",
       "      <th>2</th>\n",
       "      <td>581475</td>\n",
       "      <td>2019-12-09</td>\n",
       "      <td>23235</td>\n",
       "      <td>Storage Tin Vintage Leaf</td>\n",
       "      <td>11.53</td>\n",
       "      <td>12</td>\n",
       "      <td>13069.0</td>\n",
       "      <td>United Kingdom</td>\n",
       "      <td>12</td>\n",
       "      <td>2019</td>\n",
       "      <td>138.36</td>\n",
       "    </tr>\n",
       "    <tr>\n",
       "      <th>3</th>\n",
       "      <td>581475</td>\n",
       "      <td>2019-12-09</td>\n",
       "      <td>23272</td>\n",
       "      <td>Tree T-Light Holder Willie Winkie</td>\n",
       "      <td>10.65</td>\n",
       "      <td>12</td>\n",
       "      <td>13069.0</td>\n",
       "      <td>United Kingdom</td>\n",
       "      <td>12</td>\n",
       "      <td>2019</td>\n",
       "      <td>127.80</td>\n",
       "    </tr>\n",
       "    <tr>\n",
       "      <th>4</th>\n",
       "      <td>581475</td>\n",
       "      <td>2019-12-09</td>\n",
       "      <td>23239</td>\n",
       "      <td>Set Of 4 Knick Knack Tins Poppies</td>\n",
       "      <td>11.94</td>\n",
       "      <td>6</td>\n",
       "      <td>13069.0</td>\n",
       "      <td>United Kingdom</td>\n",
       "      <td>12</td>\n",
       "      <td>2019</td>\n",
       "      <td>71.64</td>\n",
       "    </tr>\n",
       "  </tbody>\n",
       "</table>\n",
       "</div>"
      ],
      "text/plain": [
       "  TransactionNo       Date ProductNo                          ProductName  \\\n",
       "0        581482 2019-12-09     22485        Set Of 2 Wooden Market Crates   \n",
       "1        581475 2019-12-09     22596  Christmas Star Wish List Chalkboard   \n",
       "2        581475 2019-12-09     23235             Storage Tin Vintage Leaf   \n",
       "3        581475 2019-12-09     23272    Tree T-Light Holder Willie Winkie   \n",
       "4        581475 2019-12-09     23239    Set Of 4 Knick Knack Tins Poppies   \n",
       "\n",
       "   Price  Quantity  CustomerNo         Country  Month  Year  TotalMoney  \n",
       "0  21.47        12     17490.0  United Kingdom     12  2019      257.64  \n",
       "1  10.65        36     13069.0  United Kingdom     12  2019      383.40  \n",
       "2  11.53        12     13069.0  United Kingdom     12  2019      138.36  \n",
       "3  10.65        12     13069.0  United Kingdom     12  2019      127.80  \n",
       "4  11.94         6     13069.0  United Kingdom     12  2019       71.64  "
      ]
     },
     "execution_count": 215,
     "metadata": {},
     "output_type": "execute_result"
    }
   ],
   "source": [
    "dfsales[\"Month\"] = pd.DatetimeIndex(dfsales[\"Date\"]).month\n",
    "dfsales[\"Year\"] = pd.DatetimeIndex(dfsales[\"Date\"]).year\n",
    "dfsales[\"TotalMoney\"] = dfsales[\"Price\"]*dfsales[\"Quantity\"]\n",
    "dfsales.head()"
   ]
  },
  {
   "cell_type": "markdown",
   "metadata": {},
   "source": [
    "#### Trend Penjualan "
   ]
  },
  {
   "cell_type": "markdown",
   "metadata": {},
   "source": [
    "##### Mencari Income paling besar tiap bulannya"
   ]
  },
  {
   "cell_type": "code",
   "execution_count": 216,
   "metadata": {},
   "outputs": [
    {
     "data": {
      "text/html": [
       "<div>\n",
       "<style scoped>\n",
       "    .dataframe tbody tr th:only-of-type {\n",
       "        vertical-align: middle;\n",
       "    }\n",
       "\n",
       "    .dataframe tbody tr th {\n",
       "        vertical-align: top;\n",
       "    }\n",
       "\n",
       "    .dataframe thead th {\n",
       "        text-align: right;\n",
       "    }\n",
       "</style>\n",
       "<table border=\"1\" class=\"dataframe\">\n",
       "  <thead>\n",
       "    <tr style=\"text-align: right;\">\n",
       "      <th></th>\n",
       "      <th>Month</th>\n",
       "      <th>Total Money</th>\n",
       "    </tr>\n",
       "  </thead>\n",
       "  <tbody>\n",
       "    <tr>\n",
       "      <th>0</th>\n",
       "      <td>1</td>\n",
       "      <td>2767384.69</td>\n",
       "    </tr>\n",
       "    <tr>\n",
       "      <th>1</th>\n",
       "      <td>2</td>\n",
       "      <td>2704391.22</td>\n",
       "    </tr>\n",
       "    <tr>\n",
       "      <th>2</th>\n",
       "      <td>3</td>\n",
       "      <td>3537879.14</td>\n",
       "    </tr>\n",
       "    <tr>\n",
       "      <th>3</th>\n",
       "      <td>4</td>\n",
       "      <td>3053781.87</td>\n",
       "    </tr>\n",
       "    <tr>\n",
       "      <th>4</th>\n",
       "      <td>5</td>\n",
       "      <td>3689628.88</td>\n",
       "    </tr>\n",
       "    <tr>\n",
       "      <th>5</th>\n",
       "      <td>6</td>\n",
       "      <td>3502502.18</td>\n",
       "    </tr>\n",
       "    <tr>\n",
       "      <th>6</th>\n",
       "      <td>7</td>\n",
       "      <td>3771542.14</td>\n",
       "    </tr>\n",
       "    <tr>\n",
       "      <th>7</th>\n",
       "      <td>8</td>\n",
       "      <td>3671892.15</td>\n",
       "    </tr>\n",
       "    <tr>\n",
       "      <th>8</th>\n",
       "      <td>9</td>\n",
       "      <td>5480491.58</td>\n",
       "    </tr>\n",
       "    <tr>\n",
       "      <th>9</th>\n",
       "      <td>10</td>\n",
       "      <td>5632442.40</td>\n",
       "    </tr>\n",
       "    <tr>\n",
       "      <th>10</th>\n",
       "      <td>11</td>\n",
       "      <td>6737709.59</td>\n",
       "    </tr>\n",
       "    <tr>\n",
       "      <th>11</th>\n",
       "      <td>12</td>\n",
       "      <td>1817973.88</td>\n",
       "    </tr>\n",
       "  </tbody>\n",
       "</table>\n",
       "</div>"
      ],
      "text/plain": [
       "    Month  Total Money\n",
       "0       1   2767384.69\n",
       "1       2   2704391.22\n",
       "2       3   3537879.14\n",
       "3       4   3053781.87\n",
       "4       5   3689628.88\n",
       "5       6   3502502.18\n",
       "6       7   3771542.14\n",
       "7       8   3671892.15\n",
       "8       9   5480491.58\n",
       "9      10   5632442.40\n",
       "10     11   6737709.59\n",
       "11     12   1817973.88"
      ]
     },
     "execution_count": 216,
     "metadata": {},
     "output_type": "execute_result"
    }
   ],
   "source": [
    "# Grouping Data to get sum, memilih tahun 2019 saja\n",
    "trend = dfsales.loc[dfsales[\"Year\"] == 2019]\n",
    "trend = trend.groupby(\"Month\").agg({\n",
    "    \"TotalMoney\":\"sum\"\n",
    "}).reset_index()\n",
    "trend\n",
    "\n",
    "# Making list for looping\n",
    "listMonth = range(1,13)\n",
    "listMaxMoney = []\n",
    "\n",
    "\n",
    "# Looping to get max total money each month\n",
    "for i in listMonth:\n",
    "    MaxMoney = trend[\"TotalMoney\"].loc[trend[\"Month\"] == i].max()\n",
    "\n",
    "    listMaxMoney.append(MaxMoney) # Dalam juta pound sterling\n",
    "\n",
    "dictTrend = {\n",
    "    \"Month\": listMonth,\n",
    "    \n",
    "    \"Total Money\": listMaxMoney\n",
    "}\n",
    "\n",
    "dfTrend = pd.DataFrame(dictTrend)\n",
    "dfTrend\n"
   ]
  },
  {
   "cell_type": "code",
   "execution_count": 217,
   "metadata": {},
   "outputs": [
    {
     "data": {
      "image/png": "[encoded data removed]",
      "text/plain": [
       "<Figure size 800x400 with 1 Axes>"
      ]
     },
     "metadata": {},
     "output_type": "display_data"
    }
   ],
   "source": [
    "fig = plt.subplots(figsize=(8, 4))\n",
    "\n",
    "plt.plot(dfTrend[\"Month\"], dfTrend[\"Total Money\"]/1000000, \n",
    "color = \"#009489\", marker = \"o\", linestyle = \"-\", linewidth = 1.5)\n",
    "plt.title(\"Total Penghasilan per Bulan\", pad = 17, fontsize = 20, color = \"k\")\n",
    "\n",
    "plt.xlabel(\"Bulan\", fontsize = 15)\n",
    "plt.ylabel(\"Total Money (juta  £)\", fontsize = 15)\n",
    "\n",
    "plt.grid(color = \"black\", linestyle =\"-\", linewidth = 0.2) \n",
    "plt.xlim(1,12)\n",
    "plt.ylim(1,7)\n",
    "\n",
    "plt.xticks([1,2,3,4,5,6,7,8,9,10,11,12], [\"January\", \"February\", \"March\",\n",
    "\"April\", \"May\", \"June\", \"July\", \"August\", \"September\", \"October\", \"November\", \"December\"], rotation = 30)\n",
    "  \n",
    "plt.show()"
   ]
  },
  {
   "cell_type": "markdown",
   "metadata": {},
   "source": [
    "##### Mencari Quantity yang paling Banyak setiap bulannya terjual"
   ]
  },
  {
   "cell_type": "code",
   "execution_count": 218,
   "metadata": {},
   "outputs": [
    {
     "data": {
      "text/html": [
       "<div>\n",
       "<style scoped>\n",
       "    .dataframe tbody tr th:only-of-type {\n",
       "        vertical-align: middle;\n",
       "    }\n",
       "\n",
       "    .dataframe tbody tr th {\n",
       "        vertical-align: top;\n",
       "    }\n",
       "\n",
       "    .dataframe thead th {\n",
       "        text-align: right;\n",
       "    }\n",
       "</style>\n",
       "<table border=\"1\" class=\"dataframe\">\n",
       "  <thead>\n",
       "    <tr style=\"text-align: right;\">\n",
       "      <th></th>\n",
       "      <th>Month</th>\n",
       "      <th>Max Quantity</th>\n",
       "    </tr>\n",
       "  </thead>\n",
       "  <tbody>\n",
       "    <tr>\n",
       "      <th>0</th>\n",
       "      <td>1</td>\n",
       "      <td>5227</td>\n",
       "    </tr>\n",
       "    <tr>\n",
       "      <th>1</th>\n",
       "      <td>2</td>\n",
       "      <td>3976</td>\n",
       "    </tr>\n",
       "    <tr>\n",
       "      <th>2</th>\n",
       "      <td>3</td>\n",
       "      <td>5076</td>\n",
       "    </tr>\n",
       "    <tr>\n",
       "      <th>3</th>\n",
       "      <td>4</td>\n",
       "      <td>9471</td>\n",
       "    </tr>\n",
       "    <tr>\n",
       "      <th>4</th>\n",
       "      <td>5</td>\n",
       "      <td>6722</td>\n",
       "    </tr>\n",
       "    <tr>\n",
       "      <th>5</th>\n",
       "      <td>6</td>\n",
       "      <td>3149</td>\n",
       "    </tr>\n",
       "    <tr>\n",
       "      <th>6</th>\n",
       "      <td>7</td>\n",
       "      <td>5019</td>\n",
       "    </tr>\n",
       "    <tr>\n",
       "      <th>7</th>\n",
       "      <td>8</td>\n",
       "      <td>6496</td>\n",
       "    </tr>\n",
       "    <tr>\n",
       "      <th>8</th>\n",
       "      <td>9</td>\n",
       "      <td>3919</td>\n",
       "    </tr>\n",
       "    <tr>\n",
       "      <th>9</th>\n",
       "      <td>10</td>\n",
       "      <td>8084</td>\n",
       "    </tr>\n",
       "    <tr>\n",
       "      <th>10</th>\n",
       "      <td>11</td>\n",
       "      <td>12551</td>\n",
       "    </tr>\n",
       "    <tr>\n",
       "      <th>11</th>\n",
       "      <td>12</td>\n",
       "      <td>6002</td>\n",
       "    </tr>\n",
       "  </tbody>\n",
       "</table>\n",
       "</div>"
      ],
      "text/plain": [
       "    Month  Max Quantity\n",
       "0       1          5227\n",
       "1       2          3976\n",
       "2       3          5076\n",
       "3       4          9471\n",
       "4       5          6722\n",
       "5       6          3149\n",
       "6       7          5019\n",
       "7       8          6496\n",
       "8       9          3919\n",
       "9      10          8084\n",
       "10     11         12551\n",
       "11     12          6002"
      ]
     },
     "execution_count": 218,
     "metadata": {},
     "output_type": "execute_result"
    }
   ],
   "source": [
    "# Quantity Over Months\n",
    "trend = dfsales.loc[dfsales[\"Year\"] == 2019]\n",
    "trend = trend.groupby([\"Month\", \"ProductName\"]).agg({\n",
    "    \"Quantity\":\"sum\"\n",
    "}).reset_index()\n",
    "trend\n",
    "\n",
    "# Making list for looping\n",
    "listMonth = range(1,13)\n",
    "listMaxQuantity = []\n",
    "\n",
    "\n",
    "# Looping to get max quantity each month\n",
    "for i in listMonth:\n",
    "    MaxQuantity = trend[\"Quantity\"].loc[trend[\"Month\"] == i].max()\n",
    "\n",
    "    listMaxQuantity.append(MaxQuantity)\n",
    "\n",
    "dictTrend = {\n",
    "    \"Month\": listMonth,\n",
    "    \n",
    "    \"Max Quantity\": listMaxQuantity\n",
    "}\n",
    "\n",
    "dfTrendQuantity = pd.DataFrame(dictTrend)\n",
    "dfTrendQuantity\n",
    "\n"
   ]
  },
  {
   "cell_type": "markdown",
   "metadata": {},
   "source": [
    "##### Mencari Produk nya"
   ]
  },
  {
   "cell_type": "code",
   "execution_count": 219,
   "metadata": {},
   "outputs": [
    {
     "name": "stderr",
     "output_type": "stream",
     "text": [
      "C:\\Users\\madii\\AppData\\Local\\Temp\\ipykernel_15472\\342900854.py:23: FutureWarning: The frame.append method is deprecated and will be removed from pandas in a future version. Use pandas.concat instead.\n",
      "  Max = Max.append(dfMaxProduct[i])\n",
      "C:\\Users\\madii\\AppData\\Local\\Temp\\ipykernel_15472\\342900854.py:23: FutureWarning: The frame.append method is deprecated and will be removed from pandas in a future version. Use pandas.concat instead.\n",
      "  Max = Max.append(dfMaxProduct[i])\n",
      "C:\\Users\\madii\\AppData\\Local\\Temp\\ipykernel_15472\\342900854.py:23: FutureWarning: The frame.append method is deprecated and will be removed from pandas in a future version. Use pandas.concat instead.\n",
      "  Max = Max.append(dfMaxProduct[i])\n",
      "C:\\Users\\madii\\AppData\\Local\\Temp\\ipykernel_15472\\342900854.py:23: FutureWarning: The frame.append method is deprecated and will be removed from pandas in a future version. Use pandas.concat instead.\n",
      "  Max = Max.append(dfMaxProduct[i])\n",
      "C:\\Users\\madii\\AppData\\Local\\Temp\\ipykernel_15472\\342900854.py:23: FutureWarning: The frame.append method is deprecated and will be removed from pandas in a future version. Use pandas.concat instead.\n",
      "  Max = Max.append(dfMaxProduct[i])\n",
      "C:\\Users\\madii\\AppData\\Local\\Temp\\ipykernel_15472\\342900854.py:23: FutureWarning: The frame.append method is deprecated and will be removed from pandas in a future version. Use pandas.concat instead.\n",
      "  Max = Max.append(dfMaxProduct[i])\n",
      "C:\\Users\\madii\\AppData\\Local\\Temp\\ipykernel_15472\\342900854.py:23: FutureWarning: The frame.append method is deprecated and will be removed from pandas in a future version. Use pandas.concat instead.\n",
      "  Max = Max.append(dfMaxProduct[i])\n",
      "C:\\Users\\madii\\AppData\\Local\\Temp\\ipykernel_15472\\342900854.py:23: FutureWarning: The frame.append method is deprecated and will be removed from pandas in a future version. Use pandas.concat instead.\n",
      "  Max = Max.append(dfMaxProduct[i])\n",
      "C:\\Users\\madii\\AppData\\Local\\Temp\\ipykernel_15472\\342900854.py:23: FutureWarning: The frame.append method is deprecated and will be removed from pandas in a future version. Use pandas.concat instead.\n",
      "  Max = Max.append(dfMaxProduct[i])\n",
      "C:\\Users\\madii\\AppData\\Local\\Temp\\ipykernel_15472\\342900854.py:23: FutureWarning: The frame.append method is deprecated and will be removed from pandas in a future version. Use pandas.concat instead.\n",
      "  Max = Max.append(dfMaxProduct[i])\n",
      "C:\\Users\\madii\\AppData\\Local\\Temp\\ipykernel_15472\\342900854.py:23: FutureWarning: The frame.append method is deprecated and will be removed from pandas in a future version. Use pandas.concat instead.\n",
      "  Max = Max.append(dfMaxProduct[i])\n"
     ]
    },
    {
     "data": {
      "text/html": [
       "<div>\n",
       "<style scoped>\n",
       "    .dataframe tbody tr th:only-of-type {\n",
       "        vertical-align: middle;\n",
       "    }\n",
       "\n",
       "    .dataframe tbody tr th {\n",
       "        vertical-align: top;\n",
       "    }\n",
       "\n",
       "    .dataframe thead th {\n",
       "        text-align: right;\n",
       "    }\n",
       "</style>\n",
       "<table border=\"1\" class=\"dataframe\">\n",
       "  <thead>\n",
       "    <tr style=\"text-align: right;\">\n",
       "      <th></th>\n",
       "      <th>Month</th>\n",
       "      <th>ProductName</th>\n",
       "      <th>Quantity</th>\n",
       "    </tr>\n",
       "  </thead>\n",
       "  <tbody>\n",
       "    <tr>\n",
       "      <th>577</th>\n",
       "      <td>1</td>\n",
       "      <td>Cream Hanging Heart T-Light Holder</td>\n",
       "      <td>5227</td>\n",
       "    </tr>\n",
       "    <tr>\n",
       "      <th>3153</th>\n",
       "      <td>2</td>\n",
       "      <td>Empire Design Rosette</td>\n",
       "      <td>3976</td>\n",
       "    </tr>\n",
       "    <tr>\n",
       "      <th>5901</th>\n",
       "      <td>3</td>\n",
       "      <td>Jumbo Bag Red Retrospot</td>\n",
       "      <td>5076</td>\n",
       "    </tr>\n",
       "    <tr>\n",
       "      <th>9552</th>\n",
       "      <td>4</td>\n",
       "      <td>World War 2 Gliders Asstd Designs</td>\n",
       "      <td>9471</td>\n",
       "    </tr>\n",
       "    <tr>\n",
       "      <th>11194</th>\n",
       "      <td>5</td>\n",
       "      <td>Popcorn Holder</td>\n",
       "      <td>6722</td>\n",
       "    </tr>\n",
       "    <tr>\n",
       "      <th>13108</th>\n",
       "      <td>6</td>\n",
       "      <td>Jumbo Bag Red Retrospot</td>\n",
       "      <td>3149</td>\n",
       "    </tr>\n",
       "    <tr>\n",
       "      <th>15441</th>\n",
       "      <td>7</td>\n",
       "      <td>Girls Alphabet Iron On Patches</td>\n",
       "      <td>5019</td>\n",
       "    </tr>\n",
       "    <tr>\n",
       "      <th>17249</th>\n",
       "      <td>8</td>\n",
       "      <td>Assorted Colour Bird Ornament</td>\n",
       "      <td>6496</td>\n",
       "    </tr>\n",
       "    <tr>\n",
       "      <th>20766</th>\n",
       "      <td>9</td>\n",
       "      <td>Jumbo Bag Red Retrospot</td>\n",
       "      <td>3919</td>\n",
       "    </tr>\n",
       "    <tr>\n",
       "      <th>24920</th>\n",
       "      <td>10</td>\n",
       "      <td>World War 2 Gliders Asstd Designs</td>\n",
       "      <td>8084</td>\n",
       "    </tr>\n",
       "    <tr>\n",
       "      <th>25168</th>\n",
       "      <td>11</td>\n",
       "      <td>Asstd Design 3d Paper Stickers</td>\n",
       "      <td>12551</td>\n",
       "    </tr>\n",
       "    <tr>\n",
       "      <th>29395</th>\n",
       "      <td>12</td>\n",
       "      <td>Popcorn Holder</td>\n",
       "      <td>6002</td>\n",
       "    </tr>\n",
       "  </tbody>\n",
       "</table>\n",
       "</div>"
      ],
      "text/plain": [
       "       Month                         ProductName  Quantity\n",
       "577        1  Cream Hanging Heart T-Light Holder      5227\n",
       "3153       2               Empire Design Rosette      3976\n",
       "5901       3             Jumbo Bag Red Retrospot      5076\n",
       "9552       4   World War 2 Gliders Asstd Designs      9471\n",
       "11194      5                      Popcorn Holder      6722\n",
       "13108      6             Jumbo Bag Red Retrospot      3149\n",
       "15441      7      Girls Alphabet Iron On Patches      5019\n",
       "17249      8       Assorted Colour Bird Ornament      6496\n",
       "20766      9             Jumbo Bag Red Retrospot      3919\n",
       "24920     10   World War 2 Gliders Asstd Designs      8084\n",
       "25168     11      Asstd Design 3d Paper Stickers     12551\n",
       "29395     12                      Popcorn Holder      6002"
      ]
     },
     "execution_count": 219,
     "metadata": {},
     "output_type": "execute_result"
    }
   ],
   "source": [
    "trend = dfsales.loc[dfsales[\"Year\"] == 2019]\n",
    "trend = trend.groupby([\"Month\", \"ProductName\"]).agg({\n",
    "    \"Quantity\":\"sum\"\n",
    "}).reset_index()\n",
    "\n",
    "\n",
    "dfMaxProduct = []\n",
    "\n",
    "# Mengambil ProductName setiap bulannya\n",
    "for i in range(len(listMonth)):\n",
    "\n",
    "    MaxProduct = trend.loc[(trend[\"Month\"] == listMonth[i]) & (trend[\"Quantity\"] == listMaxQuantity[i])]\n",
    "\n",
    "    dfMaxProduct.append(MaxProduct)\n",
    "    \n",
    "dfMaxProduct\n",
    "\n",
    "# Menjadikannya data frame agar mudah dipahami\n",
    "for i in range(len(dfMaxProduct)):\n",
    "    if i == 0:\n",
    "        Max = dfMaxProduct[i]\n",
    "    else:\n",
    "        Max = Max.append(dfMaxProduct[i])\n",
    "\n",
    "dfMax = pd.DataFrame(Max)\n",
    "dfMax\n",
    "\n"
   ]
  },
  {
   "cell_type": "code",
   "execution_count": 220,
   "metadata": {},
   "outputs": [
    {
     "data": {
      "image/png": "[encoded data removed]",
      "text/plain": [
       "<Figure size 1200x600 with 1 Axes>"
      ]
     },
     "metadata": {},
     "output_type": "display_data"
    }
   ],
   "source": [
    "fig = plt.subplots(figsize=(12, 6))\n",
    "\n",
    "plt.bar(data = dfMax, x = dfMax[\"Month\"],height = dfMax[\"Quantity\"], color = \"red\", width=.6)\n",
    "plt.title(\"Quantity terbanyak Setiap Bulan\", pad = 17, fontsize = 20, color = \"k\")\n",
    "\n",
    "plt.xticks([1,2,3,4,5,6,7,8,9,10,11,12], [\"January\", \"February\", \"March\",\n",
    "\"April\", \"Mei\", \"June\", \"July\", \"August\", \"September\", \"October\", \"November\", \"December\"])\n",
    "plt.xlabel(\"Month\", fontsize = 15)\n",
    "plt.ylabel(\"Quantity\", fontsize = 15)\n",
    "\n",
    "\n",
    "plt.ylim(0,13000)\n",
    "plt.show()"
   ]
  },
  {
   "cell_type": "markdown",
   "metadata": {},
   "source": [
    "#### Dibeli terbanyak"
   ]
  },
  {
   "cell_type": "markdown",
   "metadata": {},
   "source": [
    "##### 10 Produk yang paling banyak dibeli berdasarkan bulannya"
   ]
  },
  {
   "cell_type": "code",
   "execution_count": 221,
   "metadata": {},
   "outputs": [
    {
     "data": {
      "text/html": [
       "<div>\n",
       "<style scoped>\n",
       "    .dataframe tbody tr th:only-of-type {\n",
       "        vertical-align: middle;\n",
       "    }\n",
       "\n",
       "    .dataframe tbody tr th {\n",
       "        vertical-align: top;\n",
       "    }\n",
       "\n",
       "    .dataframe thead th {\n",
       "        text-align: right;\n",
       "    }\n",
       "</style>\n",
       "<table border=\"1\" class=\"dataframe\">\n",
       "  <thead>\n",
       "    <tr style=\"text-align: right;\">\n",
       "      <th></th>\n",
       "      <th>Month</th>\n",
       "      <th>ProductName</th>\n",
       "      <th>Quantity</th>\n",
       "    </tr>\n",
       "  </thead>\n",
       "  <tbody>\n",
       "    <tr>\n",
       "      <th>25168</th>\n",
       "      <td>11</td>\n",
       "      <td>Asstd Design 3d Paper Stickers</td>\n",
       "      <td>12551</td>\n",
       "    </tr>\n",
       "    <tr>\n",
       "      <th>26821</th>\n",
       "      <td>11</td>\n",
       "      <td>Popcorn Holder</td>\n",
       "      <td>11728</td>\n",
       "    </tr>\n",
       "    <tr>\n",
       "      <th>9552</th>\n",
       "      <td>4</td>\n",
       "      <td>World War 2 Gliders Asstd Designs</td>\n",
       "      <td>9471</td>\n",
       "    </tr>\n",
       "    <tr>\n",
       "      <th>26857</th>\n",
       "      <td>11</td>\n",
       "      <td>Rabbit Night Light</td>\n",
       "      <td>8335</td>\n",
       "    </tr>\n",
       "    <tr>\n",
       "      <th>24920</th>\n",
       "      <td>10</td>\n",
       "      <td>World War 2 Gliders Asstd Designs</td>\n",
       "      <td>8084</td>\n",
       "    </tr>\n",
       "    <tr>\n",
       "      <th>26637</th>\n",
       "      <td>11</td>\n",
       "      <td>Paper Chain Kit 50'S Christmas</td>\n",
       "      <td>7568</td>\n",
       "    </tr>\n",
       "    <tr>\n",
       "      <th>11194</th>\n",
       "      <td>5</td>\n",
       "      <td>Popcorn Holder</td>\n",
       "      <td>6722</td>\n",
       "    </tr>\n",
       "    <tr>\n",
       "      <th>17249</th>\n",
       "      <td>8</td>\n",
       "      <td>Assorted Colour Bird Ornament</td>\n",
       "      <td>6496</td>\n",
       "    </tr>\n",
       "    <tr>\n",
       "      <th>29395</th>\n",
       "      <td>12</td>\n",
       "      <td>Popcorn Holder</td>\n",
       "      <td>6002</td>\n",
       "    </tr>\n",
       "    <tr>\n",
       "      <th>26227</th>\n",
       "      <td>11</td>\n",
       "      <td>Jumbo Bag Red Retrospot</td>\n",
       "      <td>5463</td>\n",
       "    </tr>\n",
       "  </tbody>\n",
       "</table>\n",
       "</div>"
      ],
      "text/plain": [
       "       Month                        ProductName  Quantity\n",
       "25168     11     Asstd Design 3d Paper Stickers     12551\n",
       "26821     11                     Popcorn Holder     11728\n",
       "9552       4  World War 2 Gliders Asstd Designs      9471\n",
       "26857     11                 Rabbit Night Light      8335\n",
       "24920     10  World War 2 Gliders Asstd Designs      8084\n",
       "26637     11     Paper Chain Kit 50'S Christmas      7568\n",
       "11194      5                     Popcorn Holder      6722\n",
       "17249      8      Assorted Colour Bird Ornament      6496\n",
       "29395     12                     Popcorn Holder      6002\n",
       "26227     11            Jumbo Bag Red Retrospot      5463"
      ]
     },
     "execution_count": 221,
     "metadata": {},
     "output_type": "execute_result"
    }
   ],
   "source": [
    "trend = dfsales.loc[dfsales[\"Year\"] == 2019]\n",
    "trend = trend.groupby([\"Month\", \"ProductName\"]).agg({\n",
    "    \"Quantity\":\"sum\"\n",
    "}).reset_index()\n",
    "\n",
    "trend.nlargest(10, \"Quantity\")"
   ]
  },
  {
   "cell_type": "markdown",
   "metadata": {},
   "source": [
    "##### Produk yang paling banyak dibeli selama tahun 2019"
   ]
  },
  {
   "cell_type": "code",
   "execution_count": 222,
   "metadata": {},
   "outputs": [
    {
     "data": {
      "text/html": [
       "<div>\n",
       "<style scoped>\n",
       "    .dataframe tbody tr th:only-of-type {\n",
       "        vertical-align: middle;\n",
       "    }\n",
       "\n",
       "    .dataframe tbody tr th {\n",
       "        vertical-align: top;\n",
       "    }\n",
       "\n",
       "    .dataframe thead th {\n",
       "        text-align: right;\n",
       "    }\n",
       "</style>\n",
       "<table border=\"1\" class=\"dataframe\">\n",
       "  <thead>\n",
       "    <tr style=\"text-align: right;\">\n",
       "      <th></th>\n",
       "      <th>ProductName</th>\n",
       "      <th>Quantity</th>\n",
       "    </tr>\n",
       "  </thead>\n",
       "  <tbody>\n",
       "    <tr>\n",
       "      <th>2433</th>\n",
       "      <td>Popcorn Holder</td>\n",
       "      <td>50399</td>\n",
       "    </tr>\n",
       "    <tr>\n",
       "      <th>3602</th>\n",
       "      <td>World War 2 Gliders Asstd Designs</td>\n",
       "      <td>43934</td>\n",
       "    </tr>\n",
       "    <tr>\n",
       "      <th>1642</th>\n",
       "      <td>Jumbo Bag Red Retrospot</td>\n",
       "      <td>41065</td>\n",
       "    </tr>\n",
       "    <tr>\n",
       "      <th>202</th>\n",
       "      <td>Assorted Colour Bird Ornament</td>\n",
       "      <td>31430</td>\n",
       "    </tr>\n",
       "    <tr>\n",
       "      <th>810</th>\n",
       "      <td>Cream Hanging Heart T-Light Holder</td>\n",
       "      <td>30059</td>\n",
       "    </tr>\n",
       "    <tr>\n",
       "      <th>2087</th>\n",
       "      <td>Pack Of 12 London Tissues</td>\n",
       "      <td>22501</td>\n",
       "    </tr>\n",
       "    <tr>\n",
       "      <th>3366</th>\n",
       "      <td>Victorian Glass Hanging T-Light</td>\n",
       "      <td>21931</td>\n",
       "    </tr>\n",
       "    <tr>\n",
       "      <th>2120</th>\n",
       "      <td>Pack Of 72 Retrospot Cake Cases</td>\n",
       "      <td>21756</td>\n",
       "    </tr>\n",
       "    <tr>\n",
       "      <th>513</th>\n",
       "      <td>Brocade Ring Purse</td>\n",
       "      <td>21721</td>\n",
       "    </tr>\n",
       "    <tr>\n",
       "      <th>210</th>\n",
       "      <td>Assorted Colours Silk Fan</td>\n",
       "      <td>20040</td>\n",
       "    </tr>\n",
       "  </tbody>\n",
       "</table>\n",
       "</div>"
      ],
      "text/plain": [
       "                             ProductName  Quantity\n",
       "2433                      Popcorn Holder     50399\n",
       "3602   World War 2 Gliders Asstd Designs     43934\n",
       "1642             Jumbo Bag Red Retrospot     41065\n",
       "202        Assorted Colour Bird Ornament     31430\n",
       "810   Cream Hanging Heart T-Light Holder     30059\n",
       "2087           Pack Of 12 London Tissues     22501\n",
       "3366     Victorian Glass Hanging T-Light     21931\n",
       "2120     Pack Of 72 Retrospot Cake Cases     21756\n",
       "513                   Brocade Ring Purse     21721\n",
       "210            Assorted Colours Silk Fan     20040"
      ]
     },
     "execution_count": 222,
     "metadata": {},
     "output_type": "execute_result"
    }
   ],
   "source": [
    "banyak_terjual = dfsales.loc[dfsales[\"Year\"] == 2019]\n",
    "banyak_terjual = banyak_terjual.groupby(\"ProductName\").agg({\"Quantity\":\"sum\"}).reset_index()\n",
    "\n",
    "banyak_terjual.nlargest(10, \"Quantity\")"
   ]
  },
  {
   "cell_type": "markdown",
   "metadata": {},
   "source": [
    "#### Berapa banyak Produk yang dibeli setiap transaksi"
   ]
  },
  {
   "cell_type": "code",
   "execution_count": 223,
   "metadata": {},
   "outputs": [
    {
     "data": {
      "text/plain": [
       "1     2696\n",
       "2     1262\n",
       "3      905\n",
       "4      663\n",
       "5      650\n",
       "7      553\n",
       "6      548\n",
       "8      537\n",
       "9      535\n",
       "16     468\n",
       "Name: CustomerNo, dtype: int64"
      ]
     },
     "execution_count": 223,
     "metadata": {},
     "output_type": "execute_result"
    }
   ],
   "source": [
    "banyak_dibeli = dfsales.loc[dfsales[\"Year\"] == 2019]\n",
    "banyak_dibeli = banyak_dibeli.groupby([\"Date\", \"TransactionNo\"])[\"CustomerNo\"].count().reset_index()\n",
    "\n",
    "banyak_dibeli.describe()\n",
    "n = 10\n",
    "banyak_dibeli[\"CustomerNo\"].value_counts()[:n]# berapa banyak produk yang dibeli disetiap transaksi\n"
   ]
  },
  {
   "cell_type": "markdown",
   "metadata": {},
   "source": [
    "###### setiap transaksi, customer paling banyak membeli 1 barang saja. "
   ]
  },
  {
   "cell_type": "markdown",
   "metadata": {},
   "source": [
    "#### Produk yang paling menguntungkan"
   ]
  },
  {
   "cell_type": "code",
   "execution_count": 224,
   "metadata": {},
   "outputs": [],
   "source": [
    "menguntungkan = dfsales.loc[dfsales[\"Year\"] == 2019]\n",
    "menguntungkan = menguntungkan.groupby(\"ProductName\")[\"TotalMoney\"].sum().reset_index()\n",
    "menguntungkan = menguntungkan.nlargest(10, \"TotalMoney\")"
   ]
  },
  {
   "cell_type": "code",
   "execution_count": 225,
   "metadata": {},
   "outputs": [
    {
     "data": {
      "image/png": "[encoded data removed]",
      "text/plain": [
       "<Figure size 1000x600 with 1 Axes>"
      ]
     },
     "metadata": {},
     "output_type": "display_data"
    }
   ],
   "source": [
    "fig = plt.subplots(figsize=(10, 6))\n",
    "\n",
    "plt.bar(data = menguntungkan, x = menguntungkan[\"ProductName\"],\n",
    "height = menguntungkan[\"TotalMoney\"], color = \"yellow\", width=.6)\n",
    "\n",
    "plt.title(\"10 Penghasilan Produk Terbanyak 2019\", pad = 17, fontsize = 20, color = \"k\")\n",
    "\n",
    "\n",
    "plt.xlabel(\"Product Name\", fontsize = 15)\n",
    "plt.ylabel(\"Total Money\", fontsize = 15)\n",
    "\n",
    "plt.xticks(rotation = 90)\n",
    "\n",
    "plt.show()"
   ]
  }
 ],
 "metadata": {
  "kernelspec": {
   "display_name": "Python 3.10.1 64-bit",
   "language": "python",
   "name": "python3"
  },
  "language_info": {
   "codemirror_mode": {
    "name": "ipython",
    "version": 3
   },
   "file_extension": ".py",
   "mimetype": "text/x-python",
   "name": "python",
   "nbconvert_exporter": "python",
   "pygments_lexer": "ipython3",
   "version": "3.10.1"
  },
  "orig_nbformat": 4,
  "vscode": {
   "interpreter": {
    "hash": "b6a8734f63f9bbe2b612cef2764faf98f4f6bf564058e5bad587c46361258d88"
   }
  }
 },
 "nbformat": 4,
 "nbformat_minor": 2
}
